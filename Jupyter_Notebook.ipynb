{
 "cells": [
  {
   "cell_type": "markdown",
   "metadata": {},
   "source": [
    "Function: f(x) = -12x^4*sin(cos(x)) - 18x^3+5x^2 + 10x - 30"
   ]
  },
  {
   "cell_type": "markdown",
   "metadata": {},
   "source": [
    "1. Определить корни"
   ]
  },
  {
   "cell_type": "code",
   "execution_count": 1,
   "metadata": {},
   "outputs": [
    {
     "data": {
      "text/latex": [
       "$\\displaystyle \\frac{\\sin{\\left(x \\right)} \\sin^{2}{\\left(x + \\frac{\\pi}{4} \\right)}}{2}$"
      ],
      "text/plain": [
       "sin(x)*sin(x + pi/4)**2/2"
      ]
     },
     "execution_count": 1,
     "metadata": {},
     "output_type": "execute_result"
    }
   ],
   "source": [
    "from sympy import Interval, Symbol, solveset, solve, diff, simplify, plot, sin, cos, S\n",
    "\n",
    "x = Symbol('x')\n",
    "y = simplify(sin(x)/2+cos(x)/2)**2*sin(x)\n",
    "y"
   ]
  },
  {
   "cell_type": "code",
   "execution_count": 2,
   "metadata": {},
   "outputs": [
    {
     "data": {
      "text/latex": [
       "$\\displaystyle \\left\\{2 n \\pi\\; \\middle|\\; n \\in \\mathbb{Z}\\right\\} \\cup \\left\\{2 n \\pi + \\pi\\; \\middle|\\; n \\in \\mathbb{Z}\\right\\} \\cup \\left\\{2 n \\pi + \\frac{3 \\pi}{4}\\; \\middle|\\; n \\in \\mathbb{Z}\\right\\} \\cup \\left\\{2 n \\pi + \\frac{7 \\pi}{4}\\; \\middle|\\; n \\in \\mathbb{Z}\\right\\}$"
      ],
      "text/plain": [
       "Union(ImageSet(Lambda(_n, 2*_n*pi + 3*pi/4), Integers), ImageSet(Lambda(_n, 2*_n*pi + 7*pi/4), Integers), ImageSet(Lambda(_n, 2*_n*pi + pi), Integers), ImageSet(Lambda(_n, 2*_n*pi), Integers))"
      ]
     },
     "execution_count": 2,
     "metadata": {},
     "output_type": "execute_result"
    }
   ],
   "source": [
    "solveset(y, x)"
   ]
  },
  {
   "cell_type": "markdown",
   "metadata": {},
   "source": [
    "2. Найти интервалы, на которых функция возрастает"
   ]
  },
  {
   "cell_type": "code",
   "execution_count": 3,
   "metadata": {},
   "outputs": [
    {
     "data": {
      "text/latex": [
       "$\\displaystyle \\sin{\\left(x \\right)} \\sin{\\left(x + \\frac{\\pi}{4} \\right)} \\cos{\\left(x + \\frac{\\pi}{4} \\right)} + \\frac{\\sin^{2}{\\left(x + \\frac{\\pi}{4} \\right)} \\cos{\\left(x \\right)}}{2}$"
      ],
      "text/plain": [
       "sin(x)*sin(x + pi/4)*cos(x + pi/4) + sin(x + pi/4)**2*cos(x)/2"
      ]
     },
     "execution_count": 3,
     "metadata": {},
     "output_type": "execute_result"
    }
   ],
   "source": [
    "derivate = diff(y)\n",
    "derivate"
   ]
  },
  {
   "cell_type": "code",
   "execution_count": 4,
   "metadata": {},
   "outputs": [
    {
     "data": {
      "text/plain": [
       "[-6.557,\n",
       " -5.224,\n",
       " -3.927,\n",
       " -3.415,\n",
       " -2.082,\n",
       " -0.7854,\n",
       " -0.2737,\n",
       " 1.059,\n",
       " 2.356,\n",
       " 2.868,\n",
       " 4.201,\n",
       " 5.498,\n",
       " 6.009]"
      ]
     },
     "execution_count": 4,
     "metadata": {},
     "output_type": "execute_result"
    }
   ],
   "source": [
    "segment = list(solveset(derivate, domain = Interval(-7,7)))\n",
    "for i in range(len(segment)):\n",
    "    segment[i] = segment[i].evalf(4)\n",
    "segment = sorted(segment)\n",
    "segment"
   ]
  },
  {
   "cell_type": "code",
   "execution_count": 5,
   "metadata": {},
   "outputs": [
    {
     "data": {
      "text/latex": [
       "$\\displaystyle 0 \\leq x \\wedge x \\leq 6.009 \\wedge \\left(x = 0 \\vee x = \\frac{3 \\pi}{4} \\vee x = \\pi \\vee x = \\frac{7 \\pi}{4}\\right)$"
      ],
      "text/plain": [
       "(x <= 6.009) & (0 <= x) & (Eq(x, 0) | Eq(x, pi) | Eq(x, 3*pi/4) | Eq(x, 7*pi/4))"
      ]
     },
     "execution_count": 5,
     "metadata": {},
     "output_type": "execute_result"
    }
   ],
   "source": [
    "solve([x >= 0, x <= 6.009, y], x)\n"
   ]
  },
  {
   "cell_type": "code",
   "execution_count": 6,
   "metadata": {},
   "outputs": [
    {
     "data": {
      "text/plain": [
       "[1.059, 2.356, 2.868, 4.201, 5.498, 6.009]"
      ]
     },
     "execution_count": 6,
     "metadata": {},
     "output_type": "execute_result"
    }
   ],
   "source": [
    "section = list(solveset(derivate, x, Interval(0, 7, left_open=True, right_open=True)).evalf(n = 4))\n",
    "section"
   ]
  },
  {
   "cell_type": "code",
   "execution_count": 7,
   "metadata": {},
   "outputs": [
    {
     "data": {
      "text/plain": [
       "[((1.059, 2.356), 'Decreasing function Decrease'),\n",
       " ((2.356, 2.868), 'Increasing function '),\n",
       " ((2.868, 4.201), 'Decreasing function Decrease'),\n",
       " ((4.201, 5.498), 'Increasing function '),\n",
       " ((5.498, 6.009), 'Decreasing function Decrease')]"
      ]
     },
     "execution_count": 7,
     "metadata": {},
     "output_type": "execute_result"
    }
   ],
   "source": [
    "result = []\n",
    "for i in range(0, len(section) - 1):\n",
    "    result.append(((section[i], section[i + 1]), \"Increasing function \" if derivate.subs(x, (section[i] + section[i+1]) / 2).evalf(4) > 0 else \"Decreasing function Decrease\"))\n",
    "result"
   ]
  },
  {
   "cell_type": "markdown",
   "metadata": {},
   "source": [
    "4. Построить график"
   ]
  },
  {
   "cell_type": "code",
   "execution_count": 8,
   "metadata": {},
   "outputs": [
    {
     "data": {
      "image/png": "[encoded data removed]",
      "text/plain": [
       "<Figure size 640x480 with 1 Axes>"
      ]
     },
     "metadata": {},
     "output_type": "display_data"
    }
   ],
   "source": [
    "graph = plot(y, derivate, xlim=(0, 6.009))"
   ]
  },
  {
   "cell_type": "markdown",
   "metadata": {},
   "source": [
    "5. Вычислить вершину"
   ]
  },
  {
   "cell_type": "code",
   "execution_count": 9,
   "metadata": {},
   "outputs": [
    {
     "data": {
      "text/plain": [
       "[(1.059, 0.4041),\n",
       " (2.356, 1.578e-11),\n",
       " (2.868, 0.03240),\n",
       " (4.201, -0.4041),\n",
       " (5.498, -8.593e-11),\n",
       " (6.009, -0.03240)]"
      ]
     },
     "execution_count": 9,
     "metadata": {},
     "output_type": "execute_result"
    }
   ],
   "source": [
    "top_of_function = list(map(lambda z: (z, y.subs(x, z).evalf(4)), section))\n",
    "top_of_function"
   ]
  },
  {
   "cell_type": "markdown",
   "metadata": {},
   "source": [
    "6. Определить промежутки, на котором f > 0"
   ]
  },
  {
   "cell_type": "code",
   "execution_count": 10,
   "metadata": {},
   "outputs": [
    {
     "data": {
      "text/latex": [
       "$\\displaystyle \\left(0, \\frac{3 \\pi}{4}\\right) \\cup \\left(\\frac{3 \\pi}{4}, \\pi\\right)$"
      ],
      "text/plain": [
       "Union(Interval.open(0, 3*pi/4), Interval.open(3*pi/4, pi))"
      ]
     },
     "execution_count": 10,
     "metadata": {},
     "output_type": "execute_result"
    }
   ],
   "source": [
    "solveset(y > 0, x, S.Reals)"
   ]
  },
  {
   "cell_type": "markdown",
   "metadata": {},
   "source": [
    "7. Определить промежутки, на котором f < 0"
   ]
  },
  {
   "cell_type": "code",
   "execution_count": 11,
   "metadata": {},
   "outputs": [
    {
     "data": {
      "text/latex": [
       "$\\displaystyle \\left(\\pi, \\frac{7 \\pi}{4}\\right) \\cup \\left(\\frac{7 \\pi}{4}, 2 \\pi\\right)$"
      ],
      "text/plain": [
       "Union(Interval.open(pi, 7*pi/4), Interval.open(7*pi/4, 2*pi))"
      ]
     },
     "execution_count": 11,
     "metadata": {},
     "output_type": "execute_result"
    }
   ],
   "source": [
    "solveset(y < 0, x, S.Reals)"
   ]
  }
 ],
 "metadata": {
  "kernelspec": {
   "display_name": "Python 3.8.10 64-bit",
   "language": "python",
   "name": "python3"
  },
  "language_info": {
   "codemirror_mode": {
    "name": "ipython",
    "version": 3
   },
   "file_extension": ".py",
   "mimetype": "text/x-python",
   "name": "python",
   "nbconvert_exporter": "python",
   "pygments_lexer": "ipython3",
   "version": "3.8.10"
  },
  "orig_nbformat": 4,
  "vscode": {
   "interpreter": {
    "hash": "f544ce1a915a9875fad91c894e2c0bcad4b7a79945aa6027ef3ad27810072aa6"
   }
  }
 },
 "nbformat": 4,
 "nbformat_minor": 2
}
